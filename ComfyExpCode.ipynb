{
 "cells": [
  {
   "cell_type": "code",
   "execution_count": 1,
   "id": "9af94cab-e95b-4a56-a46c-2f2be8e15a2d",
   "metadata": {},
   "outputs": [
    {
     "name": "stdout",
     "output_type": "stream",
     "text": [
      "2.7.0.dev20250127+cu124 0.22.0.dev20250127+cu124\n"
     ]
    }
   ],
   "source": [
    "import torch\n",
    "import torchvision\n",
    "print(torch.__version__, torchvision.__version__)\n"
   ]
  },
  {
   "cell_type": "code",
   "execution_count": 1,
   "id": "1332f1b2-f3a2-470f-b62f-146aa382ef6b",
   "metadata": {},
   "outputs": [
    {
     "name": "stdout",
     "output_type": "stream",
     "text": [
      "ComfyScript: Importing ComfyUI from /home/ubuntu/ComfyUI\n",
      "[START] Security scan\n",
      "[DONE] Security scan\n",
      "## ComfyUI-Manager: installing dependencies done.\n",
      "** ComfyUI startup time: 2025-01-28 23:21:38.894\n",
      "** Platform: Linux\n",
      "** Python version: 3.12.8 | packaged by conda-forge | (main, Dec  5 2024, 14:24:40) [GCC 13.3.0]\n",
      "** Python executable: /home/ubuntu/ComfyUI/venv/bin/python\n",
      "** ComfyUI Path: /home/ubuntu/ComfyUI\n",
      "** ComfyUI Base Folder Path: /home/ubuntu/ComfyUI\n",
      "** User directory: /home/ubuntu/ComfyUI/user\n",
      "** ComfyUI-Manager config path: /home/ubuntu/ComfyUI/user/default/ComfyUI-Manager/config.ini\n",
      "** Log path: /home/ubuntu/ComfyUI/user/comfyui.log\n"
     ]
    },
    {
     "name": "stderr",
     "output_type": "stream",
     "text": [
      "\n",
      "Prestartup times for custom nodes:\n",
      "   2.0 seconds: /home/ubuntu/ComfyUI/custom_nodes/ComfyUI-Manager\n",
      "\n",
      "Checkpoint files will always be loaded safely.\n",
      "Total VRAM 22716 MB, total RAM 15788 MB\n",
      "pytorch version: 2.7.0.dev20250127+cu124\n",
      "Set vram state to: NORMAL_VRAM\n",
      "Device: cuda:0 NVIDIA A10G : cudaMallocAsync\n",
      "Using pytorch attention\n",
      "ComfyUI version: 0.3.12\n",
      "[Prompt Server] web root: /home/ubuntu/ComfyUI/web\n",
      "### Loading: ComfyUI-Manager (V3.9.5)\n",
      "### ComfyUI Version: v0.3.12-26-g255edf22 | Released on '2025-01-27'\n",
      "[ComfyUI-Manager] default cache updated: https://raw.githubusercontent.com/ltdrdata/ComfyUI-Manager/main/alter-list.json\n",
      "[ComfyUI-Manager] default cache updated: https://raw.githubusercontent.com/ltdrdata/ComfyUI-Manager/main/model-list.json\n",
      "\u001b[36;20m[comfyui_controlnet_aux] | INFO -> Using ckpts path: /home/ubuntu/ComfyUI/custom_nodes/comfyui_controlnet_aux/ckpts\u001b[0m\n",
      "\u001b[36;20m[comfyui_controlnet_aux] | INFO -> Using symlinks: False\u001b[0m\n",
      "\u001b[36;20m[comfyui_controlnet_aux] | INFO -> Using ort providers: ['CUDAExecutionProvider', 'DirectMLExecutionProvider', 'OpenVINOExecutionProvider', 'ROCMExecutionProvider', 'CPUExecutionProvider', 'CoreMLExecutionProvider']\u001b[0m\n",
      "[ComfyUI-Manager] default cache updated: https://raw.githubusercontent.com/ltdrdata/ComfyUI-Manager/main/github-stats.json\n",
      "[ComfyUI-Manager] default cache updated: https://raw.githubusercontent.com/ltdrdata/ComfyUI-Manager/main/extension-node-map.json\n",
      "[ComfyUI-Manager] default cache updated: https://raw.githubusercontent.com/ltdrdata/ComfyUI-Manager/main/custom-node-list.json\n",
      "/home/ubuntu/ComfyUI/custom_nodes/comfyui_controlnet_aux/node_wrappers/dwpose.py:26: UserWarning: DWPose: Onnxruntime not found or doesn't come with acceleration providers, switch to OpenCV with CPU device. DWPose might run very slowly\n",
      "  warnings.warn(\"DWPose: Onnxruntime not found or doesn't come with acceleration providers, switch to OpenCV with CPU device. DWPose might run very slowly\")\n"
     ]
    },
    {
     "name": "stdout",
     "output_type": "stream",
     "text": [
      "\u001b[34mIb Custom Nodes: \u001b[92mLoaded\u001b[0m\n",
      "\u001b[34mComfyScript: \u001b[92mLoaded\u001b[0m\n",
      "Nodes: 368\n"
     ]
    },
    {
     "name": "stderr",
     "output_type": "stream",
     "text": [
      "\n",
      "Import times for custom nodes:\n",
      "   0.0 seconds: /home/ubuntu/ComfyUI/custom_nodes/websocket_image_save.py\n",
      "   0.0 seconds: /home/ubuntu/ComfyUI/custom_nodes/ComfyUI_IPAdapter_plus\n",
      "   0.1 seconds: /home/ubuntu/ComfyUI/custom_nodes/ComfyUI-Manager\n",
      "   0.5 seconds: /home/ubuntu/ComfyUI/custom_nodes/ComfyScript\n",
      "   0.9 seconds: /home/ubuntu/ComfyUI/custom_nodes/comfyui_controlnet_aux\n",
      "\n",
      "Starting server\n",
      "\n",
      "To see the GUI go to: http://127.0.0.1:8188\n"
     ]
    },
    {
     "name": "stdout",
     "output_type": "stream",
     "text": [
      "FETCH ComfyRegistry Data: 5/31\n",
      "FETCH ComfyRegistry Data: 10/31\n",
      "ComfyScript: __main__.__file__ is redirected to ComfyUI/main.py to keep compatibility with some nodes\n"
     ]
    },
    {
     "name": "stderr",
     "output_type": "stream",
     "text": [
      "got prompt\n"
     ]
    },
    {
     "name": "stdout",
     "output_type": "stream",
     "text": [
      "Queue remaining: 1\n"
     ]
    },
    {
     "name": "stderr",
     "output_type": "stream",
     "text": [
      "model weight dtype torch.float16, manual cast: None\n",
      "model_type EPS\n"
     ]
    },
    {
     "name": "stdout",
     "output_type": "stream",
     "text": [
      "FETCH ComfyRegistry Data: 15/31\n",
      "FETCH ComfyRegistry Data: 20/31\n",
      "FETCH ComfyRegistry Data: 25/31\n",
      "FETCH ComfyRegistry Data: 30/31\n",
      "FETCH ComfyRegistry Data [DONE]\n",
      "nightly_channel: \n",
      "\u001b[4;94mhttps://raw.githubusercontent.com/ltdrdata/ComfyUI-Manager/main/remote\u001b[0m\n",
      "FETCH DATA from: https://raw.githubusercontent.com/ltdrdata/ComfyUI-Manager/main/custom-node-list.json"
     ]
    },
    {
     "name": "stderr",
     "output_type": "stream",
     "text": [
      "[ComfyUI-Manager] default cache updated: https://api.comfy.org/nodes\n"
     ]
    },
    {
     "name": "stdout",
     "output_type": "stream",
     "text": [
      " [DONE]\n"
     ]
    },
    {
     "name": "stderr",
     "output_type": "stream",
     "text": [
      "Using pytorch attention in VAE\n",
      "Using pytorch attention in VAE\n",
      "VAE load device: cuda:0, offload device: cpu, dtype: torch.bfloat16\n",
      "Requested to load SDXLClipModel\n",
      "loaded completely 9.5367431640625e+25 1560.802734375 True\n",
      "CLIP/text encoder model load device: cuda:0, offload device: cpu, current: cuda:0, dtype: torch.float16\n",
      "loaded diffusion model directly to GPU\n",
      "Requested to load SDXL\n",
      "loaded completely 9.5367431640625e+25 4897.0483474731445 True\n",
      "Requested to load AutoencoderKL\n",
      "loaded completely 2315.067802429199 159.55708122253418 True\n"
     ]
    },
    {
     "name": "stdout",
     "output_type": "stream",
     "text": [
      "model_path is /home/ubuntu/ComfyUI/custom_nodes/comfyui_controlnet_aux/ckpts/lllyasviel/Annotators/ZoeD_M12_N.pt\n"
     ]
    },
    {
     "name": "stderr",
     "output_type": "stream",
     "text": [
      "/home/ubuntu/ComfyUI/venv/lib/python3.12/site-packages/torch/functional.py:540: UserWarning: torch.meshgrid: in an upcoming release, it will be required to pass the indexing argument. (Triggered internally at /pytorch/aten/src/ATen/native/TensorShape.cpp:4311.)\n",
      "  return _VF.meshgrid(tensors, **kwargs)  # type: ignore[attr-defined]\n"
     ]
    }
   ],
   "source": [
    "from comfy_script.runtime import *\n",
    "\n",
    "# load('http://127.0.0.1:8188/')\n",
    "load()\n",
    "\n",
    "# Nodes can only be imported after load()\n",
    "from comfy_script.runtime.nodes import *"
   ]
  },
  {
   "cell_type": "code",
   "execution_count": 6,
   "id": "a7faf4ff-5726-40b2-9a4b-e602e46a7f89",
   "metadata": {},
   "outputs": [],
   "source": [
    "# with Workflow():\n",
    "#     model, clip, vae = CheckpointLoaderSimple('sd_xl_base_1.0.safetensors')\n",
    "#     conditioning = CLIPTextEncode('beautiful scenery nature glass bottle landscape, , purple galaxy bottle,', clip)\n",
    "#     conditioning2 = CLIPTextEncode('text, watermark', clip)\n",
    "#     latent = EmptyLatentImage(512, 512, 1)\n",
    "#     latent = KSampler(model, 156680208700286, 20, 8, 'euler', 'normal', conditioning, conditioning2, latent, 1)\n",
    "#     image = VAEDecode(latent, vae)\n",
    "#     SaveImage(image, 'ComfyUI')"
   ]
  },
  {
   "cell_type": "code",
   "execution_count": 2,
   "id": "615983b4-2e15-45a6-892e-1a34179bd2b7",
   "metadata": {},
   "outputs": [
    {
     "data": {
      "application/vnd.jupyter.widget-view+json": {
       "model_id": "0e84e24b2b7a421993e3d14b9a9c9735",
       "version_major": 2,
       "version_minor": 0
      },
      "text/plain": [
       "100%|##########| 1/1 [00:00<?, ?it/s]"
      ]
     },
     "metadata": {},
     "output_type": "display_data"
    },
    {
     "data": {
      "application/vnd.jupyter.widget-view+json": {
       "model_id": "486a3527281445d6baff62caadb36832",
       "version_major": 2,
       "version_minor": 0
      },
      "text/plain": [
       "100%|##########| 1/1 [00:00<?, ?it/s]"
      ]
     },
     "metadata": {},
     "output_type": "display_data"
    }
   ],
   "source": [
    "with Workflow():\n",
    "    model, clip, vae = CheckpointLoaderSimple('sd_xl_base_1.0.safetensors')\n",
    "    model, ipadapter = IPAdapterUnifiedLoader(model, 'STANDARD (medium strength)', None)\n",
    "    image, _ = LoadImage('modern_office_ip.jpg')\n",
    "    model = IPAdapterAdvanced(model, ipadapter, image, 1, 'style transfer', 'concat', 0, 1, 'V only', None, None, None)\n",
    "    conditioning = CLIPTextEncode('A photorealistic image of a clean, modern, coworking office space that is well-lit.', clip)\n",
    "    conditioning2 = CLIPTextEncode('text, watermark, low resolution, dark, old, people', clip)\n",
    "    control_net = ControlNetLoader('SDXL/controlnet-canny-sdxl-1.0/diffusion_pytorch_model_V2.safetensors')\n",
    "    image2, _ = LoadImage('workspace_sketch.jpg')\n",
    "    image3 = CannyEdgePreprocessor(image2, 100, 200, 512)\n",
    "    positive, negative = ControlNetApplyAdvanced(conditioning, conditioning2, control_net, image3, 1, 0, 1, None)\n",
    "    control_net2 = ControlNetLoader('SDXL/depth-zoe-xl-v1.0-controlnet.safetensors')\n",
    "    image4 = ZoeDepthMapPreprocessor(image2, 512)\n",
    "    positive2, negative2 = ControlNetApplyAdvanced(positive, negative, control_net2, image4, 1, 0, 1, None)\n",
    "    latent = VAEEncode(image3, vae)\n",
    "    latent = KSampler(model, 63339159988543, 40, 6, 'ddim', 'normal', positive2, negative2, latent, 1)\n",
    "    image5 = VAEDecode(latent, vae)\n",
    "    PreviewImage(image5)"
   ]
  },
  {
   "cell_type": "code",
   "execution_count": null,
   "id": "2f37bbd7-4839-42a4-9885-35825e4c47bd",
   "metadata": {},
   "outputs": [],
   "source": []
  }
 ],
 "metadata": {
  "kernelspec": {
   "display_name": "venvk",
   "language": "python",
   "name": "venvk"
  },
  "language_info": {
   "codemirror_mode": {
    "name": "ipython",
    "version": 3
   },
   "file_extension": ".py",
   "mimetype": "text/x-python",
   "name": "python",
   "nbconvert_exporter": "python",
   "pygments_lexer": "ipython3",
   "version": "3.12.8"
  }
 },
 "nbformat": 4,
 "nbformat_minor": 5
}
